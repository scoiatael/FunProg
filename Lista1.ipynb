{
 "cells": [
  {
   "cell_type": "markdown",
   "metadata": {},
   "source": [
    "# Zadanie1"
   ]
  },
  {
   "cell_type": "markdown",
   "metadata": {},
   "source": [
    "• `if true then 4 else 5` OK\n",
    "\n",
    "• `if false then 1 else 3.5` BAD\n",
    "\n",
    "• `4.75 + 2.34` BAD\n",
    "\n",
    "• `false || \"ab\">\"cd\"` OK (`> : 'a -> 'a -> bool`)\n",
    "\n",
    "• `if true then ()` OK\n",
    "\n",
    "• `if false then () else 4` BAD\n",
    "\n",
    "• `let x = 2 in x^\"aa\"` BAD (`^ : string -> string -> string`)\n",
    "\n",
    "• `let y = \"abc\" in y^y` OK (^)\n",
    "\n",
    "• `(fun x -> x.[1]) \"abcdef\"` OK (`.[] : string -> int -> char`)\n",
    "\n",
    "• `(fun x -> x) true` OK\n",
    "\n",
    "• `let x = [1;2] in x@x` OK (`@ : 'a list -> 'a list -> 'a list`)\n",
    "\n",
    "• `let rec f f = f+f in f 42` OK (obsolete `rec`)"
   ]
  },
  {
   "cell_type": "markdown",
   "metadata": {},
   "source": [
    "# Zadanie2"
   ]
  },
  {
   "cell_type": "markdown",
   "metadata": {},
   "source": [
    "• `let x = x in x^x` (drugi x wolny)\n",
    "\n",
    "• `let x = 10. in let y = x**2. in y*.x` (zajęte)\n",
    "\n",
    "• `let x = 1 and y = x in x + y` (drugi x wolny, bo `and`)\n",
    "\n",
    "• `let x = 1 in fun y z -> x*y*z` (zajęte)"
   ]
  },
  {
   "cell_type": "markdown",
   "metadata": {},
   "source": [
    "# Zadanie 3"
   ]
  },
  {
   "cell_type": "markdown",
   "metadata": {},
   "source": [
    "```ocaml\n",
    "let m = 10;;\n",
    "\n",
    "let f x = m + x;;\n",
    "\n",
    "let m = 100;;\n",
    "```\n",
    "`f 1 = 11` (bo OCaml wiąże statycznie, nie dynamicznie)"
   ]
  },
  {
   "cell_type": "markdown",
   "metadata": {},
   "source": [
    "# Zadanie 4"
   ]
  },
  {
   "cell_type": "markdown",
   "metadata": {},
   "source": [
    "```ocaml\n",
    "List.hd [1; 2; (3/0)];;\n",
    "```\n",
    "`Exception: Division_by_zero.`\n"
   ]
  },
  {
   "cell_type": "markdown",
   "metadata": {},
   "source": [
    "# Zadanie 5"
   ]
  },
  {
   "cell_type": "markdown",
   "metadata": {},
   "source": [
    "```\n",
    "let plus = (+)\n",
    "let plus x y = x + y\n",
    "let plus x = fun y -> x + y\n",
    "let plus = fun x y -> x + y\n",
    "let plus = fun x -> fun y -> x + y\n",
    "```"
   ]
  },
  {
   "cell_type": "markdown",
   "metadata": {},
   "source": [
    "# Zadanie 6"
   ]
  },
  {
   "cell_type": "markdown",
   "metadata": {},
   "source": [
    "```ocaml\n",
    "fun x -> x\n",
    "- : 'a -> 'a = <fun>\n",
    "```"
   ]
  },
  {
   "cell_type": "markdown",
   "metadata": {},
   "source": [
    "```ocaml\n",
    "fun x -> List.hd [x; 1]\n",
    "- : int -> int = <fun>\n",
    "```"
   ]
  },
  {
   "cell_type": "markdown",
   "metadata": {},
   "source": [
    "```ocaml\n",
    "fun a b c -> a (b c)\n",
    "- : ('a -> 'b) -> ('c -> 'a) -> 'c -> 'b = <fun>\n",
    "```"
   ]
  },
  {
   "cell_type": "markdown",
   "metadata": {},
   "source": [
    "```ocaml\n",
    "fun x -> (failwith \"a\")\n",
    "- : 'a -> 'b = <fun>\n",
    "```"
   ]
  },
  {
   "cell_type": "markdown",
   "metadata": {},
   "source": [
    "# Zadanie 7"
   ]
  },
  {
   "cell_type": "markdown",
   "metadata": {},
   "source": [
    "```ocaml\n",
    "let comp f g = fun x -> f (g x)\n",
    "val comp : ('a -> 'b) -> ('c -> 'a) -> 'c -> 'b = <fun>\n",
    "```"
   ]
  },
  {
   "cell_type": "markdown",
   "metadata": {},
   "source": [
    "```ocaml\n",
    "let rec iter n f = if n > 0 then (comp (iter (n-1) f) f) else (fun x->x)\n",
    "val iter : int -> ('a -> 'a) -> 'a -> 'a = <fun>\n",
    "```"
   ]
  },
  {
   "cell_type": "markdown",
   "metadata": {},
   "source": [
    "```ocaml\n",
    "let (+*) a b = iter a ((+) b) 0\n",
    "val (+*) : int -> int -> int = <fun>\n",
    "```"
   ]
  },
  {
   "cell_type": "markdown",
   "metadata": {},
   "source": [
    "```ocaml\n",
    "let (^^) a b = iter b ((+*) a) 1\n",
    "val (^^) : int -> int -> int = <fun>\n",
    "```"
   ]
  },
  {
   "cell_type": "markdown",
   "metadata": {},
   "source": [
    "# Zadanie 8"
   ]
  },
  {
   "cell_type": "markdown",
   "metadata": {},
   "source": [
    "```ocaml\n",
    "type 'a stream = int -> 'a;;\n",
    "let hd : 'a stream -> 'a = fun str -> str 0;;\n",
    "let tl : 'a stream -> 'a stream = fun str x -> str (x+1);;\n",
    "let add : int -> int stream -> int stream = fun x str y -> x + (str y);;\n",
    "let map : ('a -> 'b) -> 'a stream -> 'b stream = comp;;\n",
    "let map2 : ('a -> 'b -> 'c) -> 'a stream -> 'b stream -> 'c stream = fun f str1 str2 x -> f (str1 x) (str2 x);;\n",
    "let replace :  int -> 'a -> 'a stream -> 'a stream = fun n a str v -> if v mod n == 0 then a else (str v);;\n",
    "let take : int -> 'a stream -> 'a stream = fun n str x -> str (n*x);;\n",
    "let rec fold : ('a -> 'b -> 'a) -> 'a -> 'b stream -> 'a stream = fun f a b x -> if x >= 0 then fold f (f a (hd b)) (tl b) (x-1) else a;;\n",
    "let rec range a b = if a < b then a :: (range (a+1) b) else [a]\n",
    "let tabulate2 str a b = List.map str (range a b)\n",
    "let rec tabulate : int -> ?bg:int -> ?stride:int -> 'a stream -> 'a list = fun size ?(bg=0) ?(stride=1) str -> if bg > 0 then tabulate size ~bg:(bg-1) ~stride:stride (tl str) else if size < 1 then [] else (hd str) :: (tabulate (size-1) ~bg:0 ~stride:stride (iter stride tl str));;\n",
    "```"
   ]
  },
  {
   "cell_type": "code",
   "execution_count": null,
   "metadata": {
    "collapsed": true
   },
   "outputs": [],
   "source": []
  }
 ],
 "metadata": {
  "kernelspec": {
   "display_name": "Python 3",
   "language": "python",
   "name": "python3"
  },
  "language_info": {
   "codemirror_mode": {
    "name": "ipython",
    "version": 3
   },
   "file_extension": ".py",
   "mimetype": "text/x-python",
   "name": "python",
   "nbconvert_exporter": "python",
   "pygments_lexer": "ipython3",
   "version": "3.5.0"
  }
 },
 "nbformat": 4,
 "nbformat_minor": 0
}
